{
 "cells": [
  {
   "cell_type": "markdown",
   "metadata": {},
   "source": [
    "## Tutorial para detecção de stress\n",
    "### Link dos dados puros: https://onedrive.live.com/?authkey=%21ABnmv%2DCTj0X3TpQ&id=C2AB9C8D5071989A%21112360&cid=C2AB9C8D5071989A\n",
    "### Link dos dados tratados: https://dataespresso.com/en/2019/01/30/Stress-detection-with-wearable-devices-and-Machine-Learning/"
   ]
  },
  {
   "cell_type": "code",
   "execution_count": 83,
   "metadata": {},
   "outputs": [],
   "source": [
    "import pandas as pd\n",
    "import numpy as np\n",
    "import glob\n",
    "\n",
    "from tpot import TPOTClassifier # conda install -c conda-forge tpot\n",
    "from sklearn.model_selection import train_test_split\n",
    "from scipy import signal\n",
    "from matplotlib import pyplot as plt\n",
    "%matplotlib inline "
   ]
  },
  {
   "cell_type": "code",
   "execution_count": 84,
   "metadata": {},
   "outputs": [],
   "source": [
    "# leitura da base tratada\n",
    "df = pd.read_csv(\"datasets/dataframe_hrv.csv\")"
   ]
  },
  {
   "cell_type": "code",
   "execution_count": 85,
   "metadata": {},
   "outputs": [
    {
     "data": {
      "text/html": [
       "<div>\n",
       "<style scoped>\n",
       "    .dataframe tbody tr th:only-of-type {\n",
       "        vertical-align: middle;\n",
       "    }\n",
       "\n",
       "    .dataframe tbody tr th {\n",
       "        vertical-align: top;\n",
       "    }\n",
       "\n",
       "    .dataframe thead th {\n",
       "        text-align: right;\n",
       "    }\n",
       "</style>\n",
       "<table border=\"1\" class=\"dataframe\">\n",
       "  <thead>\n",
       "    <tr style=\"text-align: right;\">\n",
       "      <th></th>\n",
       "      <th>ECG</th>\n",
       "      <th>EMG</th>\n",
       "      <th>HR</th>\n",
       "      <th>RESP</th>\n",
       "      <th>Seconds</th>\n",
       "      <th>footGSR</th>\n",
       "      <th>handGSR</th>\n",
       "      <th>interval in seconds</th>\n",
       "      <th>marker</th>\n",
       "      <th>newtime</th>\n",
       "      <th>...</th>\n",
       "      <th>AVNN</th>\n",
       "      <th>SDNN</th>\n",
       "      <th>RMSSD</th>\n",
       "      <th>pNN50</th>\n",
       "      <th>TP</th>\n",
       "      <th>ULF</th>\n",
       "      <th>VLF</th>\n",
       "      <th>LF</th>\n",
       "      <th>HF</th>\n",
       "      <th>LF_HF</th>\n",
       "    </tr>\n",
       "  </thead>\n",
       "  <tbody>\n",
       "    <tr>\n",
       "      <td>0</td>\n",
       "      <td>-0.001974</td>\n",
       "      <td>-0.004737</td>\n",
       "      <td>77.815789</td>\n",
       "      <td>10.801842</td>\n",
       "      <td>12.529684</td>\n",
       "      <td>2.417132</td>\n",
       "      <td>10.889447</td>\n",
       "      <td>0.614632</td>\n",
       "      <td>NaN</td>\n",
       "      <td>12.529684</td>\n",
       "      <td>...</td>\n",
       "      <td>0.617297</td>\n",
       "      <td>3.558630e-02</td>\n",
       "      <td>0.015203</td>\n",
       "      <td>0.055556</td>\n",
       "      <td>0.001238</td>\n",
       "      <td>0.0</td>\n",
       "      <td>0.000696</td>\n",
       "      <td>0.000407</td>\n",
       "      <td>0.000135</td>\n",
       "      <td>3.00200</td>\n",
       "    </tr>\n",
       "    <tr>\n",
       "      <td>1</td>\n",
       "      <td>0.002935</td>\n",
       "      <td>-0.004457</td>\n",
       "      <td>101.978261</td>\n",
       "      <td>10.750609</td>\n",
       "      <td>30.503500</td>\n",
       "      <td>2.417109</td>\n",
       "      <td>11.251065</td>\n",
       "      <td>0.647826</td>\n",
       "      <td>NaN</td>\n",
       "      <td>30.503500</td>\n",
       "      <td>...</td>\n",
       "      <td>0.647889</td>\n",
       "      <td>1.354660e-02</td>\n",
       "      <td>0.013858</td>\n",
       "      <td>0.045455</td>\n",
       "      <td>0.000144</td>\n",
       "      <td>0.0</td>\n",
       "      <td>0.000009</td>\n",
       "      <td>0.000060</td>\n",
       "      <td>0.000075</td>\n",
       "      <td>0.79371</td>\n",
       "    </tr>\n",
       "    <tr>\n",
       "      <td>2</td>\n",
       "      <td>0.006745</td>\n",
       "      <td>-0.003426</td>\n",
       "      <td>104.957447</td>\n",
       "      <td>10.557234</td>\n",
       "      <td>52.523021</td>\n",
       "      <td>2.226872</td>\n",
       "      <td>11.379638</td>\n",
       "      <td>0.646383</td>\n",
       "      <td>NaN</td>\n",
       "      <td>52.523021</td>\n",
       "      <td>...</td>\n",
       "      <td>0.645000</td>\n",
       "      <td>2.240000e-08</td>\n",
       "      <td>0.000000</td>\n",
       "      <td>0.000000</td>\n",
       "      <td>NaN</td>\n",
       "      <td>0.0</td>\n",
       "      <td>NaN</td>\n",
       "      <td>NaN</td>\n",
       "      <td>NaN</td>\n",
       "      <td>NaN</td>\n",
       "    </tr>\n",
       "    <tr>\n",
       "      <td>3</td>\n",
       "      <td>-0.004043</td>\n",
       "      <td>-0.002532</td>\n",
       "      <td>87.702128</td>\n",
       "      <td>10.640128</td>\n",
       "      <td>74.402170</td>\n",
       "      <td>2.173021</td>\n",
       "      <td>11.470830</td>\n",
       "      <td>0.645000</td>\n",
       "      <td>NaN</td>\n",
       "      <td>74.402170</td>\n",
       "      <td>...</td>\n",
       "      <td>0.645000</td>\n",
       "      <td>2.240000e-08</td>\n",
       "      <td>0.000000</td>\n",
       "      <td>0.000000</td>\n",
       "      <td>NaN</td>\n",
       "      <td>0.0</td>\n",
       "      <td>NaN</td>\n",
       "      <td>NaN</td>\n",
       "      <td>NaN</td>\n",
       "      <td>NaN</td>\n",
       "    </tr>\n",
       "    <tr>\n",
       "      <td>4</td>\n",
       "      <td>0.012745</td>\n",
       "      <td>-0.004426</td>\n",
       "      <td>88.829787</td>\n",
       "      <td>10.699319</td>\n",
       "      <td>96.219617</td>\n",
       "      <td>2.017106</td>\n",
       "      <td>11.135255</td>\n",
       "      <td>0.645000</td>\n",
       "      <td>NaN</td>\n",
       "      <td>96.219617</td>\n",
       "      <td>...</td>\n",
       "      <td>0.645000</td>\n",
       "      <td>2.240000e-08</td>\n",
       "      <td>0.000000</td>\n",
       "      <td>0.000000</td>\n",
       "      <td>NaN</td>\n",
       "      <td>0.0</td>\n",
       "      <td>NaN</td>\n",
       "      <td>NaN</td>\n",
       "      <td>NaN</td>\n",
       "      <td>NaN</td>\n",
       "    </tr>\n",
       "  </tbody>\n",
       "</table>\n",
       "<p>5 rows × 23 columns</p>\n",
       "</div>"
      ],
      "text/plain": [
       "        ECG       EMG          HR       RESP    Seconds   footGSR    handGSR  \\\n",
       "0 -0.001974 -0.004737   77.815789  10.801842  12.529684  2.417132  10.889447   \n",
       "1  0.002935 -0.004457  101.978261  10.750609  30.503500  2.417109  11.251065   \n",
       "2  0.006745 -0.003426  104.957447  10.557234  52.523021  2.226872  11.379638   \n",
       "3 -0.004043 -0.002532   87.702128  10.640128  74.402170  2.173021  11.470830   \n",
       "4  0.012745 -0.004426   88.829787  10.699319  96.219617  2.017106  11.135255   \n",
       "\n",
       "   interval in seconds  marker    newtime  ...      AVNN          SDNN  \\\n",
       "0             0.614632     NaN  12.529684  ...  0.617297  3.558630e-02   \n",
       "1             0.647826     NaN  30.503500  ...  0.647889  1.354660e-02   \n",
       "2             0.646383     NaN  52.523021  ...  0.645000  2.240000e-08   \n",
       "3             0.645000     NaN  74.402170  ...  0.645000  2.240000e-08   \n",
       "4             0.645000     NaN  96.219617  ...  0.645000  2.240000e-08   \n",
       "\n",
       "      RMSSD     pNN50        TP  ULF       VLF        LF        HF    LF_HF  \n",
       "0  0.015203  0.055556  0.001238  0.0  0.000696  0.000407  0.000135  3.00200  \n",
       "1  0.013858  0.045455  0.000144  0.0  0.000009  0.000060  0.000075  0.79371  \n",
       "2  0.000000  0.000000       NaN  0.0       NaN       NaN       NaN      NaN  \n",
       "3  0.000000  0.000000       NaN  0.0       NaN       NaN       NaN      NaN  \n",
       "4  0.000000  0.000000       NaN  0.0       NaN       NaN       NaN      NaN  \n",
       "\n",
       "[5 rows x 23 columns]"
      ]
     },
     "execution_count": 85,
     "metadata": {},
     "output_type": "execute_result"
    }
   ],
   "source": [
    "df.head()"
   ]
  },
  {
   "cell_type": "code",
   "execution_count": 86,
   "metadata": {},
   "outputs": [],
   "source": [
    "df = df.reset_index(drop = True)"
   ]
  },
  {
   "cell_type": "code",
   "execution_count": 87,
   "metadata": {},
   "outputs": [
    {
     "data": {
      "text/html": [
       "<div>\n",
       "<style scoped>\n",
       "    .dataframe tbody tr th:only-of-type {\n",
       "        vertical-align: middle;\n",
       "    }\n",
       "\n",
       "    .dataframe tbody tr th {\n",
       "        vertical-align: top;\n",
       "    }\n",
       "\n",
       "    .dataframe thead th {\n",
       "        text-align: right;\n",
       "    }\n",
       "</style>\n",
       "<table border=\"1\" class=\"dataframe\">\n",
       "  <thead>\n",
       "    <tr style=\"text-align: right;\">\n",
       "      <th></th>\n",
       "      <th>ECG</th>\n",
       "      <th>EMG</th>\n",
       "      <th>HR</th>\n",
       "      <th>RESP</th>\n",
       "      <th>Seconds</th>\n",
       "      <th>footGSR</th>\n",
       "      <th>handGSR</th>\n",
       "      <th>interval in seconds</th>\n",
       "      <th>marker</th>\n",
       "      <th>newtime</th>\n",
       "      <th>...</th>\n",
       "      <th>AVNN</th>\n",
       "      <th>SDNN</th>\n",
       "      <th>RMSSD</th>\n",
       "      <th>pNN50</th>\n",
       "      <th>TP</th>\n",
       "      <th>ULF</th>\n",
       "      <th>VLF</th>\n",
       "      <th>LF</th>\n",
       "      <th>HF</th>\n",
       "      <th>LF_HF</th>\n",
       "    </tr>\n",
       "  </thead>\n",
       "  <tbody>\n",
       "    <tr>\n",
       "      <td>0</td>\n",
       "      <td>-0.001974</td>\n",
       "      <td>-0.004737</td>\n",
       "      <td>77.815789</td>\n",
       "      <td>10.801842</td>\n",
       "      <td>12.529684</td>\n",
       "      <td>2.417132</td>\n",
       "      <td>10.889447</td>\n",
       "      <td>0.614632</td>\n",
       "      <td>NaN</td>\n",
       "      <td>12.529684</td>\n",
       "      <td>...</td>\n",
       "      <td>0.617297</td>\n",
       "      <td>3.558630e-02</td>\n",
       "      <td>0.015203</td>\n",
       "      <td>0.055556</td>\n",
       "      <td>0.001238</td>\n",
       "      <td>0.0</td>\n",
       "      <td>0.000696</td>\n",
       "      <td>0.000407</td>\n",
       "      <td>0.000135</td>\n",
       "      <td>3.00200</td>\n",
       "    </tr>\n",
       "    <tr>\n",
       "      <td>1</td>\n",
       "      <td>0.002935</td>\n",
       "      <td>-0.004457</td>\n",
       "      <td>101.978261</td>\n",
       "      <td>10.750609</td>\n",
       "      <td>30.503500</td>\n",
       "      <td>2.417109</td>\n",
       "      <td>11.251065</td>\n",
       "      <td>0.647826</td>\n",
       "      <td>NaN</td>\n",
       "      <td>30.503500</td>\n",
       "      <td>...</td>\n",
       "      <td>0.647889</td>\n",
       "      <td>1.354660e-02</td>\n",
       "      <td>0.013858</td>\n",
       "      <td>0.045455</td>\n",
       "      <td>0.000144</td>\n",
       "      <td>0.0</td>\n",
       "      <td>0.000009</td>\n",
       "      <td>0.000060</td>\n",
       "      <td>0.000075</td>\n",
       "      <td>0.79371</td>\n",
       "    </tr>\n",
       "    <tr>\n",
       "      <td>2</td>\n",
       "      <td>0.006745</td>\n",
       "      <td>-0.003426</td>\n",
       "      <td>104.957447</td>\n",
       "      <td>10.557234</td>\n",
       "      <td>52.523021</td>\n",
       "      <td>2.226872</td>\n",
       "      <td>11.379638</td>\n",
       "      <td>0.646383</td>\n",
       "      <td>NaN</td>\n",
       "      <td>52.523021</td>\n",
       "      <td>...</td>\n",
       "      <td>0.645000</td>\n",
       "      <td>2.240000e-08</td>\n",
       "      <td>0.000000</td>\n",
       "      <td>0.000000</td>\n",
       "      <td>NaN</td>\n",
       "      <td>0.0</td>\n",
       "      <td>NaN</td>\n",
       "      <td>NaN</td>\n",
       "      <td>NaN</td>\n",
       "      <td>NaN</td>\n",
       "    </tr>\n",
       "    <tr>\n",
       "      <td>3</td>\n",
       "      <td>-0.004043</td>\n",
       "      <td>-0.002532</td>\n",
       "      <td>87.702128</td>\n",
       "      <td>10.640128</td>\n",
       "      <td>74.402170</td>\n",
       "      <td>2.173021</td>\n",
       "      <td>11.470830</td>\n",
       "      <td>0.645000</td>\n",
       "      <td>NaN</td>\n",
       "      <td>74.402170</td>\n",
       "      <td>...</td>\n",
       "      <td>0.645000</td>\n",
       "      <td>2.240000e-08</td>\n",
       "      <td>0.000000</td>\n",
       "      <td>0.000000</td>\n",
       "      <td>NaN</td>\n",
       "      <td>0.0</td>\n",
       "      <td>NaN</td>\n",
       "      <td>NaN</td>\n",
       "      <td>NaN</td>\n",
       "      <td>NaN</td>\n",
       "    </tr>\n",
       "    <tr>\n",
       "      <td>4</td>\n",
       "      <td>0.012745</td>\n",
       "      <td>-0.004426</td>\n",
       "      <td>88.829787</td>\n",
       "      <td>10.699319</td>\n",
       "      <td>96.219617</td>\n",
       "      <td>2.017106</td>\n",
       "      <td>11.135255</td>\n",
       "      <td>0.645000</td>\n",
       "      <td>NaN</td>\n",
       "      <td>96.219617</td>\n",
       "      <td>...</td>\n",
       "      <td>0.645000</td>\n",
       "      <td>2.240000e-08</td>\n",
       "      <td>0.000000</td>\n",
       "      <td>0.000000</td>\n",
       "      <td>NaN</td>\n",
       "      <td>0.0</td>\n",
       "      <td>NaN</td>\n",
       "      <td>NaN</td>\n",
       "      <td>NaN</td>\n",
       "      <td>NaN</td>\n",
       "    </tr>\n",
       "  </tbody>\n",
       "</table>\n",
       "<p>5 rows × 23 columns</p>\n",
       "</div>"
      ],
      "text/plain": [
       "        ECG       EMG          HR       RESP    Seconds   footGSR    handGSR  \\\n",
       "0 -0.001974 -0.004737   77.815789  10.801842  12.529684  2.417132  10.889447   \n",
       "1  0.002935 -0.004457  101.978261  10.750609  30.503500  2.417109  11.251065   \n",
       "2  0.006745 -0.003426  104.957447  10.557234  52.523021  2.226872  11.379638   \n",
       "3 -0.004043 -0.002532   87.702128  10.640128  74.402170  2.173021  11.470830   \n",
       "4  0.012745 -0.004426   88.829787  10.699319  96.219617  2.017106  11.135255   \n",
       "\n",
       "   interval in seconds  marker    newtime  ...      AVNN          SDNN  \\\n",
       "0             0.614632     NaN  12.529684  ...  0.617297  3.558630e-02   \n",
       "1             0.647826     NaN  30.503500  ...  0.647889  1.354660e-02   \n",
       "2             0.646383     NaN  52.523021  ...  0.645000  2.240000e-08   \n",
       "3             0.645000     NaN  74.402170  ...  0.645000  2.240000e-08   \n",
       "4             0.645000     NaN  96.219617  ...  0.645000  2.240000e-08   \n",
       "\n",
       "      RMSSD     pNN50        TP  ULF       VLF        LF        HF    LF_HF  \n",
       "0  0.015203  0.055556  0.001238  0.0  0.000696  0.000407  0.000135  3.00200  \n",
       "1  0.013858  0.045455  0.000144  0.0  0.000009  0.000060  0.000075  0.79371  \n",
       "2  0.000000  0.000000       NaN  0.0       NaN       NaN       NaN      NaN  \n",
       "3  0.000000  0.000000       NaN  0.0       NaN       NaN       NaN      NaN  \n",
       "4  0.000000  0.000000       NaN  0.0       NaN       NaN       NaN      NaN  \n",
       "\n",
       "[5 rows x 23 columns]"
      ]
     },
     "execution_count": 87,
     "metadata": {},
     "output_type": "execute_result"
    }
   ],
   "source": [
    "df.head()"
   ]
  },
  {
   "cell_type": "code",
   "execution_count": 88,
   "metadata": {},
   "outputs": [],
   "source": [
    "janela = 30"
   ]
  },
  {
   "cell_type": "code",
   "execution_count": 89,
   "metadata": {},
   "outputs": [
    {
     "data": {
      "text/plain": [
       "<matplotlib.axes._subplots.AxesSubplot at 0x7f5684814b00>"
      ]
     },
     "execution_count": 89,
     "metadata": {},
     "output_type": "execute_result"
    },
    {
     "data": {
      "image/png": "[encoded data removed]",
      "text/plain": [
       "<Figure size 432x288 with 1 Axes>"
      ]
     },
     "metadata": {
      "needs_background": "light"
     },
     "output_type": "display_data"
    }
   ],
   "source": [
    "# exemplo de plot\n",
    "df.ECG[janela:janela*5].plot()"
   ]
  },
  {
   "cell_type": "code",
   "execution_count": 90,
   "metadata": {},
   "outputs": [
    {
     "data": {
      "text/plain": [
       "Index(['ECG', 'EMG', 'HR', 'RESP', 'Seconds', 'footGSR', 'handGSR',\n",
       "       'interval in seconds', 'marker', 'newtime', 'stress', 'time', 'NNRR',\n",
       "       'AVNN', 'SDNN', 'RMSSD', 'pNN50', 'TP', 'ULF', 'VLF', 'LF', 'HF',\n",
       "       'LF_HF'],\n",
       "      dtype='object')"
      ]
     },
     "execution_count": 90,
     "metadata": {},
     "output_type": "execute_result"
    }
   ],
   "source": [
    "# visualizar todas as colunas utilizadas\n",
    "df.columns"
   ]
  },
  {
   "cell_type": "code",
   "execution_count": 91,
   "metadata": {},
   "outputs": [],
   "source": [
    "# funcao para checar se a rotulagem de stress estah correta\n",
    "def fix_stress_labels(df='', colum = 'stress'):\n",
    "    df['stress'] = np.where(df['stress'] >=0.5, 1, 0)\n",
    "    display(df.stress.unique())\n",
    "    return df"
   ]
  },
  {
   "cell_type": "code",
   "execution_count": 92,
   "metadata": {},
   "outputs": [
    {
     "data": {
      "text/plain": [
       "array([0, 1])"
      ]
     },
     "metadata": {},
     "output_type": "display_data"
    }
   ],
   "source": [
    "df = fix_stress_labels(df)"
   ]
  },
  {
   "cell_type": "code",
   "execution_count": 93,
   "metadata": {},
   "outputs": [
    {
     "data": {
      "text/html": [
       "<div>\n",
       "<style scoped>\n",
       "    .dataframe tbody tr th:only-of-type {\n",
       "        vertical-align: middle;\n",
       "    }\n",
       "\n",
       "    .dataframe tbody tr th {\n",
       "        vertical-align: top;\n",
       "    }\n",
       "\n",
       "    .dataframe thead th {\n",
       "        text-align: right;\n",
       "    }\n",
       "</style>\n",
       "<table border=\"1\" class=\"dataframe\">\n",
       "  <thead>\n",
       "    <tr style=\"text-align: right;\">\n",
       "      <th></th>\n",
       "      <th>ECG</th>\n",
       "      <th>EMG</th>\n",
       "      <th>HR</th>\n",
       "      <th>RESP</th>\n",
       "      <th>Seconds</th>\n",
       "      <th>footGSR</th>\n",
       "      <th>handGSR</th>\n",
       "      <th>interval in seconds</th>\n",
       "      <th>marker</th>\n",
       "      <th>newtime</th>\n",
       "      <th>...</th>\n",
       "      <th>AVNN</th>\n",
       "      <th>SDNN</th>\n",
       "      <th>RMSSD</th>\n",
       "      <th>pNN50</th>\n",
       "      <th>TP</th>\n",
       "      <th>ULF</th>\n",
       "      <th>VLF</th>\n",
       "      <th>LF</th>\n",
       "      <th>HF</th>\n",
       "      <th>LF_HF</th>\n",
       "    </tr>\n",
       "  </thead>\n",
       "  <tbody>\n",
       "    <tr>\n",
       "      <td>0</td>\n",
       "      <td>-0.001974</td>\n",
       "      <td>-0.004737</td>\n",
       "      <td>77.815789</td>\n",
       "      <td>10.801842</td>\n",
       "      <td>12.529684</td>\n",
       "      <td>2.417132</td>\n",
       "      <td>10.889447</td>\n",
       "      <td>0.614632</td>\n",
       "      <td>NaN</td>\n",
       "      <td>12.529684</td>\n",
       "      <td>...</td>\n",
       "      <td>0.617297</td>\n",
       "      <td>3.558630e-02</td>\n",
       "      <td>0.015203</td>\n",
       "      <td>0.055556</td>\n",
       "      <td>0.001238</td>\n",
       "      <td>0.000000</td>\n",
       "      <td>0.000696</td>\n",
       "      <td>0.000407</td>\n",
       "      <td>0.000135</td>\n",
       "      <td>3.00200</td>\n",
       "    </tr>\n",
       "    <tr>\n",
       "      <td>1</td>\n",
       "      <td>0.002935</td>\n",
       "      <td>-0.004457</td>\n",
       "      <td>101.978261</td>\n",
       "      <td>10.750609</td>\n",
       "      <td>30.503500</td>\n",
       "      <td>2.417109</td>\n",
       "      <td>11.251065</td>\n",
       "      <td>0.647826</td>\n",
       "      <td>NaN</td>\n",
       "      <td>30.503500</td>\n",
       "      <td>...</td>\n",
       "      <td>0.647889</td>\n",
       "      <td>1.354660e-02</td>\n",
       "      <td>0.013858</td>\n",
       "      <td>0.045455</td>\n",
       "      <td>0.000144</td>\n",
       "      <td>0.000000</td>\n",
       "      <td>0.000009</td>\n",
       "      <td>0.000060</td>\n",
       "      <td>0.000075</td>\n",
       "      <td>0.79371</td>\n",
       "    </tr>\n",
       "    <tr>\n",
       "      <td>2</td>\n",
       "      <td>0.006745</td>\n",
       "      <td>-0.003426</td>\n",
       "      <td>104.957447</td>\n",
       "      <td>10.557234</td>\n",
       "      <td>52.523021</td>\n",
       "      <td>2.226872</td>\n",
       "      <td>11.379638</td>\n",
       "      <td>0.646383</td>\n",
       "      <td>NaN</td>\n",
       "      <td>52.523021</td>\n",
       "      <td>...</td>\n",
       "      <td>0.645000</td>\n",
       "      <td>2.240000e-08</td>\n",
       "      <td>0.000000</td>\n",
       "      <td>0.000000</td>\n",
       "      <td>NaN</td>\n",
       "      <td>0.000000</td>\n",
       "      <td>NaN</td>\n",
       "      <td>NaN</td>\n",
       "      <td>NaN</td>\n",
       "      <td>NaN</td>\n",
       "    </tr>\n",
       "    <tr>\n",
       "      <td>3</td>\n",
       "      <td>-0.004043</td>\n",
       "      <td>-0.002532</td>\n",
       "      <td>87.702128</td>\n",
       "      <td>10.640128</td>\n",
       "      <td>74.402170</td>\n",
       "      <td>2.173021</td>\n",
       "      <td>11.470830</td>\n",
       "      <td>0.645000</td>\n",
       "      <td>NaN</td>\n",
       "      <td>74.402170</td>\n",
       "      <td>...</td>\n",
       "      <td>0.645000</td>\n",
       "      <td>2.240000e-08</td>\n",
       "      <td>0.000000</td>\n",
       "      <td>0.000000</td>\n",
       "      <td>NaN</td>\n",
       "      <td>0.000000</td>\n",
       "      <td>NaN</td>\n",
       "      <td>NaN</td>\n",
       "      <td>NaN</td>\n",
       "      <td>NaN</td>\n",
       "    </tr>\n",
       "    <tr>\n",
       "      <td>4</td>\n",
       "      <td>0.012745</td>\n",
       "      <td>-0.004426</td>\n",
       "      <td>88.829787</td>\n",
       "      <td>10.699319</td>\n",
       "      <td>96.219617</td>\n",
       "      <td>2.017106</td>\n",
       "      <td>11.135255</td>\n",
       "      <td>0.645000</td>\n",
       "      <td>NaN</td>\n",
       "      <td>96.219617</td>\n",
       "      <td>...</td>\n",
       "      <td>0.645000</td>\n",
       "      <td>2.240000e-08</td>\n",
       "      <td>0.000000</td>\n",
       "      <td>0.000000</td>\n",
       "      <td>NaN</td>\n",
       "      <td>0.000000</td>\n",
       "      <td>NaN</td>\n",
       "      <td>NaN</td>\n",
       "      <td>NaN</td>\n",
       "      <td>NaN</td>\n",
       "    </tr>\n",
       "    <tr>\n",
       "      <td>...</td>\n",
       "      <td>...</td>\n",
       "      <td>...</td>\n",
       "      <td>...</td>\n",
       "      <td>...</td>\n",
       "      <td>...</td>\n",
       "      <td>...</td>\n",
       "      <td>...</td>\n",
       "      <td>...</td>\n",
       "      <td>...</td>\n",
       "      <td>...</td>\n",
       "      <td>...</td>\n",
       "      <td>...</td>\n",
       "      <td>...</td>\n",
       "      <td>...</td>\n",
       "      <td>...</td>\n",
       "      <td>...</td>\n",
       "      <td>...</td>\n",
       "      <td>...</td>\n",
       "      <td>...</td>\n",
       "      <td>...</td>\n",
       "      <td>...</td>\n",
       "    </tr>\n",
       "    <tr>\n",
       "      <td>4124</td>\n",
       "      <td>0.235263</td>\n",
       "      <td>0.424921</td>\n",
       "      <td>67.263158</td>\n",
       "      <td>33.493789</td>\n",
       "      <td>1384.599395</td>\n",
       "      <td>1.352105</td>\n",
       "      <td>5.373237</td>\n",
       "      <td>0.870763</td>\n",
       "      <td>9.597576</td>\n",
       "      <td>69562.420500</td>\n",
       "      <td>...</td>\n",
       "      <td>0.869892</td>\n",
       "      <td>8.546400e-02</td>\n",
       "      <td>0.045648</td>\n",
       "      <td>0.083333</td>\n",
       "      <td>0.096370</td>\n",
       "      <td>0.096370</td>\n",
       "      <td>0.000000</td>\n",
       "      <td>0.000000</td>\n",
       "      <td>0.000000</td>\n",
       "      <td>NaN</td>\n",
       "    </tr>\n",
       "    <tr>\n",
       "      <td>4125</td>\n",
       "      <td>0.266158</td>\n",
       "      <td>0.438684</td>\n",
       "      <td>69.500000</td>\n",
       "      <td>33.406211</td>\n",
       "      <td>1405.522816</td>\n",
       "      <td>1.361316</td>\n",
       "      <td>5.372211</td>\n",
       "      <td>0.877605</td>\n",
       "      <td>9.601515</td>\n",
       "      <td>69583.343920</td>\n",
       "      <td>...</td>\n",
       "      <td>0.876919</td>\n",
       "      <td>6.689060e-02</td>\n",
       "      <td>0.032167</td>\n",
       "      <td>0.027778</td>\n",
       "      <td>0.059283</td>\n",
       "      <td>0.059283</td>\n",
       "      <td>0.000000</td>\n",
       "      <td>0.000000</td>\n",
       "      <td>0.000000</td>\n",
       "      <td>NaN</td>\n",
       "    </tr>\n",
       "    <tr>\n",
       "      <td>4126</td>\n",
       "      <td>0.199139</td>\n",
       "      <td>0.411472</td>\n",
       "      <td>68.972222</td>\n",
       "      <td>33.246056</td>\n",
       "      <td>1423.220333</td>\n",
       "      <td>1.417806</td>\n",
       "      <td>5.706972</td>\n",
       "      <td>0.912306</td>\n",
       "      <td>9.603871</td>\n",
       "      <td>69027.154060</td>\n",
       "      <td>...</td>\n",
       "      <td>0.912571</td>\n",
       "      <td>8.870620e-02</td>\n",
       "      <td>0.045629</td>\n",
       "      <td>0.058824</td>\n",
       "      <td>0.090722</td>\n",
       "      <td>0.090722</td>\n",
       "      <td>0.000000</td>\n",
       "      <td>0.000000</td>\n",
       "      <td>0.000000</td>\n",
       "      <td>NaN</td>\n",
       "    </tr>\n",
       "    <tr>\n",
       "      <td>4127</td>\n",
       "      <td>0.247811</td>\n",
       "      <td>0.423108</td>\n",
       "      <td>67.189189</td>\n",
       "      <td>33.370378</td>\n",
       "      <td>1443.257216</td>\n",
       "      <td>1.370865</td>\n",
       "      <td>5.494568</td>\n",
       "      <td>0.908541</td>\n",
       "      <td>9.590312</td>\n",
       "      <td>69341.889860</td>\n",
       "      <td>...</td>\n",
       "      <td>0.906889</td>\n",
       "      <td>1.102240e-01</td>\n",
       "      <td>0.044973</td>\n",
       "      <td>0.057143</td>\n",
       "      <td>0.153265</td>\n",
       "      <td>0.153265</td>\n",
       "      <td>0.000000</td>\n",
       "      <td>0.000000</td>\n",
       "      <td>0.000000</td>\n",
       "      <td>NaN</td>\n",
       "    </tr>\n",
       "    <tr>\n",
       "      <td>4128</td>\n",
       "      <td>0.259590</td>\n",
       "      <td>0.438462</td>\n",
       "      <td>65.410256</td>\n",
       "      <td>33.468256</td>\n",
       "      <td>1466.115769</td>\n",
       "      <td>1.357769</td>\n",
       "      <td>5.366410</td>\n",
       "      <td>0.842026</td>\n",
       "      <td>10.713824</td>\n",
       "      <td>69908.807970</td>\n",
       "      <td>...</td>\n",
       "      <td>0.838711</td>\n",
       "      <td>8.349430e-02</td>\n",
       "      <td>0.025974</td>\n",
       "      <td>0.081081</td>\n",
       "      <td>0.087479</td>\n",
       "      <td>0.087479</td>\n",
       "      <td>0.000000</td>\n",
       "      <td>0.000000</td>\n",
       "      <td>0.000000</td>\n",
       "      <td>NaN</td>\n",
       "    </tr>\n",
       "  </tbody>\n",
       "</table>\n",
       "<p>4129 rows × 23 columns</p>\n",
       "</div>"
      ],
      "text/plain": [
       "           ECG       EMG          HR       RESP      Seconds   footGSR  \\\n",
       "0    -0.001974 -0.004737   77.815789  10.801842    12.529684  2.417132   \n",
       "1     0.002935 -0.004457  101.978261  10.750609    30.503500  2.417109   \n",
       "2     0.006745 -0.003426  104.957447  10.557234    52.523021  2.226872   \n",
       "3    -0.004043 -0.002532   87.702128  10.640128    74.402170  2.173021   \n",
       "4     0.012745 -0.004426   88.829787  10.699319    96.219617  2.017106   \n",
       "...        ...       ...         ...        ...          ...       ...   \n",
       "4124  0.235263  0.424921   67.263158  33.493789  1384.599395  1.352105   \n",
       "4125  0.266158  0.438684   69.500000  33.406211  1405.522816  1.361316   \n",
       "4126  0.199139  0.411472   68.972222  33.246056  1423.220333  1.417806   \n",
       "4127  0.247811  0.423108   67.189189  33.370378  1443.257216  1.370865   \n",
       "4128  0.259590  0.438462   65.410256  33.468256  1466.115769  1.357769   \n",
       "\n",
       "        handGSR  interval in seconds     marker       newtime  ...      AVNN  \\\n",
       "0     10.889447             0.614632        NaN     12.529684  ...  0.617297   \n",
       "1     11.251065             0.647826        NaN     30.503500  ...  0.647889   \n",
       "2     11.379638             0.646383        NaN     52.523021  ...  0.645000   \n",
       "3     11.470830             0.645000        NaN     74.402170  ...  0.645000   \n",
       "4     11.135255             0.645000        NaN     96.219617  ...  0.645000   \n",
       "...         ...                  ...        ...           ...  ...       ...   \n",
       "4124   5.373237             0.870763   9.597576  69562.420500  ...  0.869892   \n",
       "4125   5.372211             0.877605   9.601515  69583.343920  ...  0.876919   \n",
       "4126   5.706972             0.912306   9.603871  69027.154060  ...  0.912571   \n",
       "4127   5.494568             0.908541   9.590312  69341.889860  ...  0.906889   \n",
       "4128   5.366410             0.842026  10.713824  69908.807970  ...  0.838711   \n",
       "\n",
       "              SDNN     RMSSD     pNN50        TP       ULF       VLF  \\\n",
       "0     3.558630e-02  0.015203  0.055556  0.001238  0.000000  0.000696   \n",
       "1     1.354660e-02  0.013858  0.045455  0.000144  0.000000  0.000009   \n",
       "2     2.240000e-08  0.000000  0.000000       NaN  0.000000       NaN   \n",
       "3     2.240000e-08  0.000000  0.000000       NaN  0.000000       NaN   \n",
       "4     2.240000e-08  0.000000  0.000000       NaN  0.000000       NaN   \n",
       "...            ...       ...       ...       ...       ...       ...   \n",
       "4124  8.546400e-02  0.045648  0.083333  0.096370  0.096370  0.000000   \n",
       "4125  6.689060e-02  0.032167  0.027778  0.059283  0.059283  0.000000   \n",
       "4126  8.870620e-02  0.045629  0.058824  0.090722  0.090722  0.000000   \n",
       "4127  1.102240e-01  0.044973  0.057143  0.153265  0.153265  0.000000   \n",
       "4128  8.349430e-02  0.025974  0.081081  0.087479  0.087479  0.000000   \n",
       "\n",
       "            LF        HF    LF_HF  \n",
       "0     0.000407  0.000135  3.00200  \n",
       "1     0.000060  0.000075  0.79371  \n",
       "2          NaN       NaN      NaN  \n",
       "3          NaN       NaN      NaN  \n",
       "4          NaN       NaN      NaN  \n",
       "...        ...       ...      ...  \n",
       "4124  0.000000  0.000000      NaN  \n",
       "4125  0.000000  0.000000      NaN  \n",
       "4126  0.000000  0.000000      NaN  \n",
       "4127  0.000000  0.000000      NaN  \n",
       "4128  0.000000  0.000000      NaN  \n",
       "\n",
       "[4129 rows x 23 columns]"
      ]
     },
     "execution_count": 93,
     "metadata": {},
     "output_type": "execute_result"
    }
   ],
   "source": [
    "df"
   ]
  },
  {
   "cell_type": "code",
   "execution_count": 94,
   "metadata": {},
   "outputs": [],
   "source": [
    "# Limpeza de dados e complemento das informacoes dos 'missing values' com a media\n",
    "def missing_values(df=''):\n",
    "    df.reset_index(inplace=True)\n",
    "    df.replace([np.inf, -np.inf], np.nan, inplace=True) # coluna com valor nula serah completada com nan\n",
    "    df[~np.isfinite(df)] = np.nan # onde for true, completa com 'nan'\n",
    "#     display(\"antes, com valores nan\")\n",
    "    df.plot(y=[\"HR\"], title = \"Com valores NaN\") \n",
    "    df.HR.fillna((df['HR'].mean()), inplace=True) # completa os compos vazios de HR com seu valor medio\n",
    "    df['HR'] = signal.medfilt(df['HR'],13)\n",
    "#     display(\"depois, com valores preenchidos pela media\")\n",
    "    df.plot(y=[\"HR\"], title = \"Com vals preenchidos pela media\") \n",
    "    \n",
    "    df.fillna(df.mean(),inplace=True) # generaliza o preenchimento dos vals. para todas as colunas com nan\n",
    "    return df"
   ]
  },
  {
   "cell_type": "code",
   "execution_count": 95,
   "metadata": {},
   "outputs": [
    {
     "data": {
      "image/png": "[encoded data removed]",
      "text/plain": [
       "<Figure size 432x288 with 1 Axes>"
      ]
     },
     "metadata": {
      "needs_background": "light"
     },
     "output_type": "display_data"
    },
    {
     "data": {
      "image/png": "[encoded data removed]",
      "text/plain": [
       "<Figure size 432x288 with 1 Axes>"
      ]
     },
     "metadata": {
      "needs_background": "light"
     },
     "output_type": "display_data"
    }
   ],
   "source": [
    "df = missing_values(df)"
   ]
  },
  {
   "cell_type": "markdown",
   "metadata": {},
   "source": [
    "### Remoção das Features e Seleção"
   ]
  },
  {
   "cell_type": "code",
   "execution_count": 96,
   "metadata": {},
   "outputs": [],
   "source": [
    "selected_x_columns = ['HR','interval in seconds','AVNN', 'RMSSD', 'pNN50', 'TP', 'ULF', 'VLF', 'LF', 'HF','LF_HF']\n",
    "X = df[selected_x_columns]\n",
    "y = df['stress']"
   ]
  },
  {
   "cell_type": "markdown",
   "metadata": {},
   "source": [
    "### Alg. de Aprendizagem de Máquina e alg. evolucionário"
   ]
  },
  {
   "cell_type": "code",
   "execution_count": 97,
   "metadata": {},
   "outputs": [],
   "source": [
    "def do_tpot(gen = 5, population_size = 10, X = '', y = ''):\n",
    "    X_train, X_test, y_train, y_test = train_test_split(X,y, train_size = .8, test_size = .2)\n",
    "    tpot_clas = TPOTClassifier(generations=gen, population_size=population_size, verbosity=2,cv=3)\n",
    "    tpot_clas.fit(X_train, y_train)\n",
    "    print(\"Score: {0}\".format(tpot_clas.score(X_test, y_test)))\n",
    "    tpot_clas.export('tpot_pipeline_sec.py')\n",
    "    return tpot_clas"
   ]
  },
  {
   "cell_type": "code",
   "execution_count": 98,
   "metadata": {
    "scrolled": true
   },
   "outputs": [
    {
     "name": "stdout",
     "output_type": "stream",
     "text": [
      "Warning: xgboost.XGBClassifier is not available and will not be used by TPOT.\n"
     ]
    },
    {
     "data": {
      "application/vnd.jupyter.widget-view+json": {
       "model_id": "",
       "version_major": 2,
       "version_minor": 0
      },
      "text/plain": [
       "HBox(children=(FloatProgress(value=0.0, description='Optimization Progress', max=120.0, style=ProgressStyle(de…"
      ]
     },
     "metadata": {},
     "output_type": "display_data"
    },
    {
     "name": "stdout",
     "output_type": "stream",
     "text": [
      "Generation 1 - Current best internal CV score: 0.7547683923705722\n",
      "Generation 2 - Current best internal CV score: 0.7547683923705722\n",
      "Generation 3 - Current best internal CV score: 0.7571904329397517\n",
      "Generation 4 - Current best internal CV score: 0.7584014532243416\n",
      "Generation 5 - Current best internal CV score: 0.7584014532243416\n",
      "\n",
      "Best pipeline: KNeighborsClassifier(FeatureAgglomeration(input_matrix, affinity=l2, linkage=average), n_neighbors=69, p=1, weights=distance)\n",
      "Score: 0.7953995157384988\n"
     ]
    }
   ],
   "source": [
    "tpot_clas = do_tpot(5, 20, X,y)"
   ]
  },
  {
   "cell_type": "markdown",
   "metadata": {},
   "source": [
    "### Teste de classificação"
   ]
  },
  {
   "cell_type": "markdown",
   "metadata": {},
   "source": [
    "Obs.: Os intervalos RR de cada amostra foram plotados, e os segmentos marcados como estresse do modelo foram anotados em vermelho, enquanto os segmentos durante o movimento registrados no dispositivo Fitbit foram marcados em verde."
   ]
  },
  {
   "cell_type": "markdown",
   "metadata": {},
   "source": [
    "Os arquivos para teste podem ser obtidos publicamente, disponibilizados no <a href=\"https://github.com/Hygo/Stress_classifier_with_AutoML_and_wearable_devices\"> Git </a>, mesmo que os arquivos não estejam rotulados.  "
   ]
  },
  {
   "cell_type": "code",
   "execution_count": 99,
   "metadata": {},
   "outputs": [],
   "source": [
    "from itertools import cycle, islice\n",
    "\n",
    "def plotFitBitReader(dfnewHRV = '', predictor = 'none', sel_x_cols=''):\n",
    "    dfnewHRV = missing_values(dfnewHRV)\n",
    "    dfnewPol = dfnewHRV[sel_x_cols].fillna(0)\n",
    "    \n",
    "    #     print(dfnewPol.columns)\n",
    "    #     print(dfnewPol.shape)\n",
    "    pred = predictor.predict_proba(dfnewPol)\n",
    "    \n",
    "    dfpred = pd.DataFrame(pred)\n",
    "    \n",
    "    dfpred.columns = [\"FALSE\", \"TRUE\"] # Add o nome as colunas (0,1) vindo com os resultados da var pred\n",
    "    dfpred['stress'] = np.where(dfpred[\"TRUE\"] > 0.5,1,np.nan)\n",
    "    \n",
    "    dfnewHRV[\"stress\"] = dfpred[\"stress\"]\n",
    "    \n",
    "    # seta para nan as linhas da columa stress, onde [\"steps\"] correspondentes forem maior que 0\n",
    "    dfnewHRV.loc[dfnewHRV[\"steps\"] > 0, 'stress'] = np.nan\n",
    "    \n",
    "    #marca os picos RR como picos de stresse\n",
    "    dfnewHRV.loc[dfnewHRV[\"stress\"] == 1, 'stress'] = dfnewHRV['interval in seconds']\n",
    "    dfnewHRV.loc[dfnewHRV[\"stress\"] > 0, 'moving'] = dfnewHRV['interval in seconds']\n",
    "    dfnewHRV[\"minutos\"] = (dfnewHRV['newtime']/60)/1000\n",
    "\n",
    "    cores = list(islice(cycle(['b', 'r', 'y', 'k']), None, len(dfnewHRV)))\n",
    "    plot = dfnewHRV.plot(x=\"minutos\", y=[\"interval in seconds\",\"stress\", \"moving\"],color=cores)\n",
    "    \n",
    "    fig = plot.get_figure()"
   ]
  },
  {
   "cell_type": "code",
   "execution_count": 100,
   "metadata": {},
   "outputs": [
    {
     "data": {
      "text/plain": [
       "['datasets/Vikings/intraday_fitbit.csv',\n",
       " 'datasets/Vikings/dfnewHRV_Female_24_years_old.csv']"
      ]
     },
     "execution_count": 100,
     "metadata": {},
     "output_type": "execute_result"
    }
   ],
   "source": [
    "files = glob.glob('datasets/Vikings/*.csv')\n",
    "files"
   ]
  },
  {
   "cell_type": "code",
   "execution_count": 101,
   "metadata": {},
   "outputs": [
    {
     "data": {
      "image/png": "[encoded data removed]",
      "text/plain": [
       "<Figure size 432x288 with 1 Axes>"
      ]
     },
     "metadata": {
      "needs_background": "light"
     },
     "output_type": "display_data"
    },
    {
     "data": {
      "image/png": "[encoded data removed]",
      "text/plain": [
       "<Figure size 432x288 with 1 Axes>"
      ]
     },
     "metadata": {
      "needs_background": "light"
     },
     "output_type": "display_data"
    },
    {
     "data": {
      "image/png": "[encoded data removed]",
      "text/plain": [
       "<Figure size 432x288 with 1 Axes>"
      ]
     },
     "metadata": {
      "needs_background": "light"
     },
     "output_type": "display_data"
    }
   ],
   "source": [
    "input_df = pd.read_csv(files[1])\n",
    "plotFitBitReader(input_df,tpot_clas, selected_x_columns)"
   ]
  },
  {
   "cell_type": "code",
   "execution_count": null,
   "metadata": {},
   "outputs": [],
   "source": []
  }
 ],
 "metadata": {
  "kernelspec": {
   "display_name": "Python 3",
   "language": "python",
   "name": "python3"
  },
  "language_info": {
   "codemirror_mode": {
    "name": "ipython",
    "version": 3
   },
   "file_extension": ".py",
   "mimetype": "text/x-python",
   "name": "python",
   "nbconvert_exporter": "python",
   "pygments_lexer": "ipython3",
   "version": "3.6.9"
  }
 },
 "nbformat": 4,
 "nbformat_minor": 2
}
